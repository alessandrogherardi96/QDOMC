{
 "cells": [
  {
   "cell_type": "code",
   "id": "6d900a55-8e14-4bc3-9435-19b97f55c522",
   "metadata": {
    "ExecuteTime": {
     "end_time": "2025-05-15T13:37:10.407180Z",
     "start_time": "2025-05-15T13:37:08.469109Z"
    }
   },
   "source": [
    "from collections import defaultdict\n",
    "import matplotlib.pyplot as plt\n",
    "from typing import List\n",
    "import networkx as nx\n",
    "import itertools\n",
    "import random\n",
    "import json"
   ],
   "outputs": [],
   "execution_count": 1
  },
  {
   "metadata": {},
   "cell_type": "markdown",
   "source": "### Load data and build graph",
   "id": "748cd40123bef489"
  },
  {
   "cell_type": "code",
   "id": "2a3cf25c-d8e2-4fce-b834-aa01f3caf378",
   "metadata": {
    "ExecuteTime": {
     "end_time": "2025-05-15T13:37:25.177040Z",
     "start_time": "2025-05-15T13:37:24.977682Z"
    }
   },
   "source": [
    "# These two parameters can be changes by changing the priority\n",
    "n_nodes = '613'\n",
    "n_edges = '167263'\n",
    "\n",
    "#grafo originale: purtroppo al momento mancano i pesi esclusa la linea di business 3: dovrei chiederla a Fra. Per questa ragione ora uso il grafo del PNRR, tanto per impostare il codice.\n",
    "#filename = f'../input/actual/graph{n_nodes}_{n_edges}.json'\n",
    "filename = f'../input/artificial/rescaled_graph{n_nodes}_{n_edges}.json'\n",
    "\n",
    "with open(filename, 'r') as file:\n",
    "    graph_data = json.load(file)\n",
    "\n",
    "G = nx.Graph()"
   ],
   "outputs": [],
   "execution_count": 2
  },
  {
   "metadata": {
    "ExecuteTime": {
     "end_time": "2025-05-15T13:37:38.401116Z",
     "start_time": "2025-05-15T13:37:38.394761Z"
    }
   },
   "cell_type": "code",
   "source": [
    "def calculate_weights(k, value, cs):\n",
    "    v, w00, w01 = [k,value[0], value[1]]\n",
    "    w1 = min(max(w00-cs[0], 0), cs[1])\n",
    "    w2 = min(max(w00-cs[2], 0), cs[3])\n",
    "    w3 = min(max((w01-cs[4])*0.5,0), cs[5]*0.5)\n",
    "    w4 = w3\n",
    "    return {v:[w1,w2,w3,w4]}\n",
    "\n",
    "def set_weights(graph_dict):\n",
    "\n",
    "    weights = dict()\n",
    "    a=0\n",
    "    b=0.027290137282490516\n",
    "    c=d=0.03640364796375065\n",
    "    e=f=0.08197120137005134\n",
    "    cs = [a,b,c,d,e,f]\n",
    "\n",
    "    for key in graph_dict:\n",
    "        weights_values = calculate_weights(key, graph_dict[key], cs)\n",
    "        weights.update(weights_values)\n",
    "    return weights"
   ],
   "id": "e92fb38b91f6fea8",
   "outputs": [],
   "execution_count": 3
  },
  {
   "metadata": {
    "ExecuteTime": {
     "end_time": "2025-05-15T13:37:53.756848Z",
     "start_time": "2025-05-15T13:37:53.612413Z"
    }
   },
   "cell_type": "code",
   "source": [
    "# edges\n",
    "G.add_edges_from([tuple(edge) for edge in graph_data['edges']])\n",
    "\n",
    "# nodes\n",
    "graph_weights = set_weights(graph_data['vertices'])\n",
    "nx.set_node_attributes(G, {int(k):v[0] for k,v in graph_weights.items()}, 'w1')\n",
    "nx.set_node_attributes(G, {int(k):v[1] for k,v in graph_weights.items()}, 'w2')\n",
    "nx.set_node_attributes(G, {int(k):v[2] for k,v in graph_weights.items()}, 'w3')\n",
    "nx.set_node_attributes(G, {int(k):v[3] for k,v in graph_weights.items()}, 'w4')"
   ],
   "id": "20ec0121e66abeb1",
   "outputs": [],
   "execution_count": 4
  },
  {
   "metadata": {},
   "cell_type": "markdown",
   "source": "### Enumerate cliques",
   "id": "459c718c13a48965"
  },
  {
   "metadata": {
    "ExecuteTime": {
     "end_time": "2025-05-15T13:37:56.843656Z",
     "start_time": "2025-05-15T13:37:56.827259Z"
    }
   },
   "cell_type": "code",
   "source": [
    "def find_random_k_clique(G, k, max_tries=1000):\n",
    "    nodes = list(G.nodes)\n",
    "\n",
    "    for _ in range(max_tries):\n",
    "        candidate = set([random.choice(nodes)])\n",
    "        while len(candidate) < k:\n",
    "            neighbors = set.intersection(*(set(G.neighbors(n)) for n in candidate))\n",
    "            neighbors = neighbors - candidate\n",
    "            if not neighbors:\n",
    "                break\n",
    "            candidate.add(random.choice(list(neighbors)))\n",
    "        if len(candidate) == k:\n",
    "            return list(candidate)\n",
    "\n",
    "    raise ValueError(f\"Failed to find a clique of size {k} after {max_tries} attempts.\")\n",
    "\n",
    "def build_clique(node_list):\n",
    "    G = nx.Graph()\n",
    "    G.add_nodes_from(node_list)\n",
    "    G.add_edges_from(itertools.combinations(node_list, 2))  # Fully connect all nodes\n",
    "    return G\n",
    "\n",
    "def is_exact_subgraph(G, subG):\n",
    "    return (set(tmp_clique.nodes).issubset(G.nodes) and\n",
    "            all(G.has_edge(u, v) for u, v in tmp_clique.edges))\n",
    "\n",
    "def is_maximal_clique(G, clique_nodes):\n",
    "    clique_set = set(clique_nodes)\n",
    "\n",
    "    # Candidates are nodes not in the clique\n",
    "    for node in set(G.nodes) - clique_set:\n",
    "        if all(G.has_edge(node, c) for c in clique_set):\n",
    "            # node can be added to extend the clique → not maximal\n",
    "            return False\n",
    "    return True\n",
    "\n",
    "def obj_func(graph, node_labels):\n",
    "\n",
    "    grouped_attrs = defaultdict(list)\n",
    "    list_of_attrs = []\n",
    "    a=100\n",
    "    b=0\n",
    "    c=90\n",
    "    d=25\n",
    "    e=0\n",
    "    f=20\n",
    "    g=0\n",
    "    h=85\n",
    "    cs = [a,b,c,d,e,f,g,h]\n",
    "\n",
    "    for l in node_labels:\n",
    "        list_of_attrs.append(graph.nodes[l])\n",
    "\n",
    "    for d in list_of_attrs:\n",
    "        for k, v in d.items():\n",
    "            grouped_attrs[k].append(v)\n",
    "\n",
    "    A_atm = sum(grouped_attrs['w1'])\n",
    "    A_mp1 = sum(grouped_attrs['w2'])\n",
    "    A_mp2 = sum(grouped_attrs['w3'])\n",
    "    A_nat = A_mp2\n",
    "    obj = min(max(A_atm -cs[0], cs[1]), cs[2]) + min(max(max(A_mp1 - cs[3], cs[4]) + A_mp2 - cs[5],cs[6]),cs[7]) + A_nat\n",
    "\n",
    "    return obj"
   ],
   "id": "5d96642c4b343367",
   "outputs": [],
   "execution_count": 5
  },
  {
   "metadata": {
    "ExecuteTime": {
     "end_time": "2025-05-15T15:22:07.172640Z",
     "start_time": "2025-05-15T14:43:48.469026Z"
    }
   },
   "cell_type": "code",
   "source": [
    "max_k=28\n",
    "max_n=1000\n",
    "\n",
    "cliques = defaultdict(List[list])\n",
    "is_maximal = defaultdict(list)\n",
    "\n",
    "for k in range(2, max_k+1):\n",
    "    print(f'collecting cliques of size k: {k}')\n",
    "    cliques_of_size_k = []\n",
    "    is_maximal_k = []\n",
    "    for n in range(1,max_n+1):\n",
    "        try:\n",
    "            tmp_nodes = find_random_k_clique(G, k)\n",
    "            tmp_clique = build_clique(tmp_nodes)\n",
    "            cliques_of_size_k.append(tmp_clique)\n",
    "            is_maximal_k.append(is_maximal_clique(G, tmp_clique))\n",
    "        except:\n",
    "            continue\n",
    "    cliques[k] = cliques_of_size_k\n",
    "    is_maximal[k] = is_maximal_k\n",
    "\n",
    "#example_k = 3\n",
    "#example_clique = cliques[example_k][0]\n",
    "#print(is_exact_subgraph(G, example_clique))\n",
    "#print(is_maximal_clique(G, cliques[example_k][0].nodes()))\n",
    "#print(obj_func(G, list(example_clique.nodes())))\n",
    "#nx.draw(example_clique, with_labels=True)\n",
    "#plt.show()"
   ],
   "id": "95b66f01cae0cec",
   "outputs": [
    {
     "name": "stdout",
     "output_type": "stream",
     "text": [
      "collecting cliques of size k: 2\n",
      "collecting cliques of size k: 3\n",
      "collecting cliques of size k: 4\n",
      "collecting cliques of size k: 5\n",
      "collecting cliques of size k: 6\n",
      "collecting cliques of size k: 7\n",
      "collecting cliques of size k: 8\n",
      "collecting cliques of size k: 9\n",
      "collecting cliques of size k: 10\n",
      "collecting cliques of size k: 11\n",
      "collecting cliques of size k: 12\n",
      "collecting cliques of size k: 13\n",
      "collecting cliques of size k: 14\n",
      "collecting cliques of size k: 15\n",
      "collecting cliques of size k: 16\n",
      "collecting cliques of size k: 17\n",
      "collecting cliques of size k: 18\n",
      "collecting cliques of size k: 19\n",
      "collecting cliques of size k: 20\n",
      "collecting cliques of size k: 21\n",
      "collecting cliques of size k: 22\n",
      "collecting cliques of size k: 23\n",
      "collecting cliques of size k: 24\n",
      "collecting cliques of size k: 25\n",
      "collecting cliques of size k: 26\n",
      "collecting cliques of size k: 27\n",
      "collecting cliques of size k: 28\n"
     ]
    }
   ],
   "execution_count": 29
  },
  {
   "metadata": {
    "ExecuteTime": {
     "end_time": "2025-05-15T15:53:47.836600Z",
     "start_time": "2025-05-15T15:53:47.824467Z"
    }
   },
   "cell_type": "code",
   "source": [
    "n_maximals = {k: sum(v) for k, v in is_maximal.items()}\n",
    "n_cliques = {k: len(v) for k, v in is_maximal.items()}\n",
    "\n",
    "result = {k: n_maximals[k] / n_cliques[k] for k in is_maximal}"
   ],
   "id": "2bb9d1f0ee378a03",
   "outputs": [],
   "execution_count": 30
  },
  {
   "metadata": {
    "ExecuteTime": {
     "end_time": "2025-05-15T15:54:09.769711Z",
     "start_time": "2025-05-15T15:54:09.667878Z"
    }
   },
   "cell_type": "code",
   "source": "plt.bar(result.keys(), result.values(), color='skyblue', edgecolor='black')",
   "id": "a27969271c0630d1",
   "outputs": [
    {
     "data": {
      "text/plain": [
       "<BarContainer object of 27 artists>"
      ]
     },
     "execution_count": 32,
     "metadata": {},
     "output_type": "execute_result"
    },
    {
     "data": {
      "text/plain": [
       "<Figure size 640x480 with 1 Axes>"
      ],
      "image/png": "[encoded data removed]"
     },
     "metadata": {},
     "output_type": "display_data"
    }
   ],
   "execution_count": 32
  }
 ],
 "metadata": {
  "kernelspec": {
   "display_name": "Python 3 (ipykernel)",
   "language": "python",
   "name": "python3"
  },
  "language_info": {
   "codemirror_mode": {
    "name": "ipython",
    "version": 3
   },
   "file_extension": ".py",
   "mimetype": "text/x-python",
   "name": "python",
   "nbconvert_exporter": "python",
   "pygments_lexer": "ipython3",
   "version": "3.11.4"
  }
 },
 "nbformat": 4,
 "nbformat_minor": 5
}
