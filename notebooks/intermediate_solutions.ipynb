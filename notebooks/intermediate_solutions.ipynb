{
 "cells": [
  {
   "cell_type": "code",
   "execution_count": 3,
   "metadata": {},
   "outputs": [],
   "source": [
    "import sys\n",
    "import os\n",
    "sys.path.append(os.path.abspath(\"../src\"))"
   ]
  },
  {
   "cell_type": "code",
   "execution_count": 4,
   "metadata": {},
   "outputs": [],
   "source": [
    "import networkx as nx\n",
    "import dwave_networkx as dnx\n",
    "from dwave.system import DWaveSampler\n",
    "from dwave.system import AutoEmbeddingComposite\n",
    "%matplotlib inline\n",
    "import matplotlib.pyplot as plt\n",
    "from random import choice\n",
    "import numpy as np\n",
    "import itertools\n",
    "import os\n",
    "import pandas as pd\n",
    "import pickle\n",
    "from tqdm.notebook import tqdm\n",
    "import re\n",
    "from utils.basic import func_max, QUBO_bias, generate_qubo_value\n",
    "from utils.show_results import print_func, extract_numbers\n",
    "from utils.calculation import generate_empty_dataframe, find_intermediate_solutions"
   ]
  },
  {
   "cell_type": "code",
   "execution_count": 2,
   "metadata": {},
   "outputs": [],
   "source": [
    "sampler =  AutoEmbeddingComposite(DWaveSampler())"
   ]
  },
  {
   "cell_type": "markdown",
   "metadata": {},
   "source": [
    "# Soluzioni intermedie complete"
   ]
  },
  {
   "cell_type": "code",
   "execution_count": 9,
   "metadata": {},
   "outputs": [],
   "source": [
    "# DO NOT RUN\n",
    "folder = \"./output/static_ratio_more_batch\"\n",
    "folder_for = f\"{folder}/graphs\"\n",
    "times = pd.DataFrame()\n",
    "for file_name in sorted(os.listdir(folder_for), key=extract_numbers):\n",
    "    #extract values from folder\n",
    "    graph = f\"{folder}/graphs/{file_name}\"\n",
    "    cli_func = f\"{folder}/cli_func/{file_name}\"\n",
    "    with open(graph, \"rb\") as f:\n",
    "        G = pickle.load(f)\n",
    "    with open(cli_func, \"rb\") as f:\n",
    "        cli_func = pickle.load(f)\n",
    "    df, cliques = generate_empty_dataframe(cli_func)\n",
    "    with open(f\"{folder}/empty_dataframes/{file_name}\", \"wb\") as f:\n",
    "        pickle.dump(df, f)\n",
    "    with open(f\"{folder}/empty_dataframes/cliques_{file_name}\", \"wb\") as f:\n",
    "        pickle.dump(cliques, f)\n",
    "    times[file_name]=[0]\n",
    "with open(f\"{folder}/times_parziali.pkl\", \"wb\") as f:\n",
    "    pickle.dump(times, f)"
   ]
  },
  {
   "cell_type": "code",
   "execution_count": 9,
   "metadata": {},
   "outputs": [
    {
     "name": "stdout",
     "output_type": "stream",
     "text": [
      "Calculating 9_21.pkl...\n"
     ]
    },
    {
     "data": {
      "application/vnd.jupyter.widget-view+json": {
       "model_id": "dec9c7ecd78d40e4940b6e7d388f30bf",
       "version_major": 2,
       "version_minor": 0
      },
      "text/plain": [
       "  0%|          | 0/8 [00:00<?, ?it/s]"
      ]
     },
     "metadata": {},
     "output_type": "display_data"
    },
    {
     "name": "stdout",
     "output_type": "stream",
     "text": [
      "Calculating 12_28.pkl...\n"
     ]
    },
    {
     "data": {
      "application/vnd.jupyter.widget-view+json": {
       "model_id": "fc557d69f9214fc38ed1977cb7a37052",
       "version_major": 2,
       "version_minor": 0
      },
      "text/plain": [
       "  0%|          | 0/8 [00:00<?, ?it/s]"
      ]
     },
     "metadata": {},
     "output_type": "display_data"
    },
    {
     "name": "stdout",
     "output_type": "stream",
     "text": [
      "Calculating 15_35.pkl...\n"
     ]
    },
    {
     "data": {
      "application/vnd.jupyter.widget-view+json": {
       "model_id": "e991143d30c646d894e2f2a32b06f758",
       "version_major": 2,
       "version_minor": 0
      },
      "text/plain": [
       "  0%|          | 0/8 [00:00<?, ?it/s]"
      ]
     },
     "metadata": {},
     "output_type": "display_data"
    },
    {
     "name": "stdout",
     "output_type": "stream",
     "text": [
      "Calculating 18_42.pkl...\n"
     ]
    },
    {
     "data": {
      "application/vnd.jupyter.widget-view+json": {
       "model_id": "9c08c94e8823476cbdfa9eed5503a51e",
       "version_major": 2,
       "version_minor": 0
      },
      "text/plain": [
       "  0%|          | 0/8 [00:00<?, ?it/s]"
      ]
     },
     "metadata": {},
     "output_type": "display_data"
    },
    {
     "name": "stdout",
     "output_type": "stream",
     "text": [
      "Calculating 21_49.pkl...\n"
     ]
    },
    {
     "data": {
      "application/vnd.jupyter.widget-view+json": {
       "model_id": "3ca1c0c9ee1645739955511bd91bdcbb",
       "version_major": 2,
       "version_minor": 0
      },
      "text/plain": [
       "  0%|          | 0/8 [00:00<?, ?it/s]"
      ]
     },
     "metadata": {},
     "output_type": "display_data"
    },
    {
     "name": "stdout",
     "output_type": "stream",
     "text": [
      "Calculating 24_56.pkl...\n"
     ]
    },
    {
     "data": {
      "application/vnd.jupyter.widget-view+json": {
       "model_id": "5e345a66d5214e6a877d5ef82cf26474",
       "version_major": 2,
       "version_minor": 0
      },
      "text/plain": [
       "  0%|          | 0/8 [00:00<?, ?it/s]"
      ]
     },
     "metadata": {},
     "output_type": "display_data"
    },
    {
     "name": "stdout",
     "output_type": "stream",
     "text": [
      "Calculating 27_63.pkl...\n"
     ]
    },
    {
     "data": {
      "application/vnd.jupyter.widget-view+json": {
       "model_id": "6a25d605a81f46688a6cc72b6ebc867c",
       "version_major": 2,
       "version_minor": 0
      },
      "text/plain": [
       "  0%|          | 0/8 [00:00<?, ?it/s]"
      ]
     },
     "metadata": {},
     "output_type": "display_data"
    },
    {
     "name": "stdout",
     "output_type": "stream",
     "text": [
      "Calculating 30_70.pkl...\n"
     ]
    },
    {
     "data": {
      "application/vnd.jupyter.widget-view+json": {
       "model_id": "002313dc02b04c1798752470d8bd57c7",
       "version_major": 2,
       "version_minor": 0
      },
      "text/plain": [
       "  0%|          | 0/8 [00:00<?, ?it/s]"
      ]
     },
     "metadata": {},
     "output_type": "display_data"
    },
    {
     "name": "stdout",
     "output_type": "stream",
     "text": [
      "Calculating 33_77.pkl...\n"
     ]
    },
    {
     "data": {
      "application/vnd.jupyter.widget-view+json": {
       "model_id": "77f3fccdb1a042db8b2d1bc430c25151",
       "version_major": 2,
       "version_minor": 0
      },
      "text/plain": [
       "  0%|          | 0/8 [00:00<?, ?it/s]"
      ]
     },
     "metadata": {},
     "output_type": "display_data"
    },
    {
     "name": "stdout",
     "output_type": "stream",
     "text": [
      "Calculating 36_84.pkl...\n"
     ]
    },
    {
     "data": {
      "application/vnd.jupyter.widget-view+json": {
       "model_id": "db630e9735e74c9f9f4359bfef989ddb",
       "version_major": 2,
       "version_minor": 0
      },
      "text/plain": [
       "  0%|          | 0/8 [00:00<?, ?it/s]"
      ]
     },
     "metadata": {},
     "output_type": "display_data"
    },
    {
     "name": "stdout",
     "output_type": "stream",
     "text": [
      "Calculating 39_91.pkl...\n"
     ]
    },
    {
     "data": {
      "application/vnd.jupyter.widget-view+json": {
       "model_id": "6f150624422841359f3e92e4cb80b19c",
       "version_major": 2,
       "version_minor": 0
      },
      "text/plain": [
       "  0%|          | 0/8 [00:00<?, ?it/s]"
      ]
     },
     "metadata": {},
     "output_type": "display_data"
    },
    {
     "name": "stdout",
     "output_type": "stream",
     "text": [
      "Calculating 42_98.pkl...\n"
     ]
    },
    {
     "data": {
      "application/vnd.jupyter.widget-view+json": {
       "model_id": "865dd5e6ae0b45c6869712d16d9ef62a",
       "version_major": 2,
       "version_minor": 0
      },
      "text/plain": [
       "  0%|          | 0/8 [00:00<?, ?it/s]"
      ]
     },
     "metadata": {},
     "output_type": "display_data"
    },
    {
     "name": "stdout",
     "output_type": "stream",
     "text": [
      "Calculating 45_105.pkl...\n"
     ]
    },
    {
     "data": {
      "application/vnd.jupyter.widget-view+json": {
       "model_id": "9b90bfde0e7547aaa868a3b19cec93bd",
       "version_major": 2,
       "version_minor": 0
      },
      "text/plain": [
       "  0%|          | 0/8 [00:00<?, ?it/s]"
      ]
     },
     "metadata": {},
     "output_type": "display_data"
    }
   ],
   "source": [
    "folder = \"./output/static_ratio_more_batch\"\n",
    "folder_for = f\"{folder}/graphs\"\n",
    "with open(f\"{folder}/times_parziali.pkl\", \"rb\") as f:\n",
    "        times = pickle.load(f)\n",
    "reads = 500\n",
    "batch = 8\n",
    "for file_name in sorted(os.listdir(folder_for), key=extract_numbers):\n",
    "    #extract values from folder\n",
    "    print(f\"Calculating {file_name}...\")\n",
    "    graph_f = f\"{folder}/graphs/{file_name}\"\n",
    "    cli_func_f = f\"{folder}/cli_func/{file_name}\"\n",
    "    df_f = f\"{folder}/full_dataframes/{file_name}\"\n",
    "    cliques_f = f\"{folder}/empty_dataframes/cliques_{file_name}\"\n",
    "    with open(graph_f, \"rb\") as f:\n",
    "        G = pickle.load(f)\n",
    "    with open(cli_func_f, \"rb\") as f:\n",
    "        cli_func = pickle.load(f)\n",
    "    with open(df_f, \"rb\") as f:\n",
    "        df = pickle.load(f)\n",
    "    with open(cliques_f, \"rb\") as f:\n",
    "        cliques = pickle.load(f)\n",
    "    #qubo_value = generate_qubo_value(G, cli_func)\n",
    "    qubo = QUBO_bias(G, False, True, [1,2,4,8]) #qubo_value per scalare in base alla differenza delle medie\n",
    "    for _ in tqdm(range(batch)):\n",
    "        df = find_intermediate_solutions(G, sampler, df, cliques, qubo, reads)\n",
    "        times[file_name]+=reads\n",
    "    with open(df_f, \"wb\") as f:\n",
    "        pickle.dump(df, f)\n",
    "  \n",
    "with open(f\"{folder}/times_parziali.pkl\", \"wb\") as f:\n",
    "    pickle.dump(times, f)   "
   ]
  },
  {
   "cell_type": "code",
   "execution_count": 10,
   "metadata": {},
   "outputs": [
    {
     "data": {
      "text/html": [
       "<div>\n",
       "<style scoped>\n",
       "    .dataframe tbody tr th:only-of-type {\n",
       "        vertical-align: middle;\n",
       "    }\n",
       "\n",
       "    .dataframe tbody tr th {\n",
       "        vertical-align: top;\n",
       "    }\n",
       "\n",
       "    .dataframe thead th {\n",
       "        text-align: right;\n",
       "    }\n",
       "</style>\n",
       "<table border=\"1\" class=\"dataframe\">\n",
       "  <thead>\n",
       "    <tr style=\"text-align: right;\">\n",
       "      <th></th>\n",
       "      <th>9_21.pkl</th>\n",
       "      <th>12_28.pkl</th>\n",
       "      <th>15_35.pkl</th>\n",
       "      <th>18_42.pkl</th>\n",
       "      <th>21_49.pkl</th>\n",
       "      <th>24_56.pkl</th>\n",
       "      <th>27_63.pkl</th>\n",
       "      <th>30_70.pkl</th>\n",
       "      <th>33_77.pkl</th>\n",
       "      <th>36_84.pkl</th>\n",
       "      <th>39_91.pkl</th>\n",
       "      <th>42_98.pkl</th>\n",
       "      <th>45_105.pkl</th>\n",
       "    </tr>\n",
       "  </thead>\n",
       "  <tbody>\n",
       "    <tr>\n",
       "      <th>0</th>\n",
       "      <td>8000</td>\n",
       "      <td>8000</td>\n",
       "      <td>8000</td>\n",
       "      <td>8000</td>\n",
       "      <td>8000</td>\n",
       "      <td>8000</td>\n",
       "      <td>8000</td>\n",
       "      <td>8000</td>\n",
       "      <td>8000</td>\n",
       "      <td>8000</td>\n",
       "      <td>8000</td>\n",
       "      <td>8000</td>\n",
       "      <td>8000</td>\n",
       "    </tr>\n",
       "  </tbody>\n",
       "</table>\n",
       "</div>"
      ],
      "text/plain": [
       "   9_21.pkl  12_28.pkl  15_35.pkl  ...  39_91.pkl  42_98.pkl  45_105.pkl\n",
       "0      8000       8000       8000  ...       8000       8000        8000\n",
       "\n",
       "[1 rows x 13 columns]"
      ]
     },
     "execution_count": 10,
     "metadata": {},
     "output_type": "execute_result"
    }
   ],
   "source": [
    "times"
   ]
  },
  {
   "cell_type": "code",
   "execution_count": 22,
   "metadata": {},
   "outputs": [
    {
     "name": "stdout",
     "output_type": "stream",
     "text": [
      "   0   1   2   3   4   5   6   7   8   9   10  11  12  13   14   15    16\n",
      "0   0   0   0   0   0   0   0   0   1   0  -1   0   0   0    0    0     0\n",
      "1   0   0   0   0   0   0   0   0   0   0   0   1   0  26  270  429  3273\n",
      "2   0   0   0   0   0   0  -1   0   0   0   0   0   0   0    0    0     0\n",
      "   0   1   2   3   4   5   6   7   8   ...  10  11  12  13  14  15   16   17    18\n",
      "0   0   0   0   0   0   0   0   0   0  ...   0  11   6  -1   0   0    0    0     0\n",
      "1   0   0   0   0   0   0   0   0   0  ...   0   0   0   0   2  13  175  235  3551\n",
      "2   0   0   0   0   0   0   0   0   3  ...   0   0   0   0   0   0    0    0     0\n",
      "3   0   0   0  -1   0   0   0   0   0  ...   0   0   0   0   0   0    0    0     0\n",
      "\n",
      "[4 rows x 19 columns]\n",
      "   0   1   2   3   4   5   6   7   8   ...  18  19  20  21  22   23   24   25    26\n",
      "0   0   0   0   0   0   0   0   0   0  ...   0   0   0   0   0    0    0    0     0\n",
      "1   0   0   0   0   0   0   0   0   0  ...   0   0   1   7  20  113  445  964  1653\n",
      "2   0   0   0   0   0   0   0   0   2  ...   0   0   0   0   0    0    0    0     0\n",
      "3   0   0  -1   0   0   0   0   0   0  ...   0   0   0   0   0    0    0    0     0\n",
      "\n",
      "[4 rows x 27 columns]\n",
      "   0   1   2   3   4   5   6   7   ...   16   17  18  19   20   21   22    23\n",
      "0   0   0   0   0   0   1   0   1  ...  285  131  29  -1    0    0    0     0\n",
      "1   0   0   0   0   1   1   0   4  ...    6    2  13  33  159  345  556  1541\n",
      "2   0   0   0   0   0   0   0   0  ...    0    0   0   0    0    0    0     0\n",
      "3   0   0   0   0   0   1  -1   0  ...    0    0   0   0    0    0    0     0\n",
      "\n",
      "[4 rows x 24 columns]\n",
      "   0   1   2   3   4   5   6   7   8   ...  26  27  28  29  30   31   32   33    34\n",
      "0   0   0   0   0   0   0   0   0   0  ...   0   0   0   0   0    0    0    0     0\n",
      "1   0   0   0   0   0   0   0   0   0  ...   0   0   2   9  77  249  475  608  2328\n",
      "2   0   0   0   0   0   0   0   0   0  ...   0   0   0   0   0    0    0    0     0\n",
      "3   0   0   0   0   0   0   0  -1   0  ...   0   0   0   0   0    0    0    0     0\n",
      "4   0   0  -1   0   0   0   0   0   0  ...   0   0   0   0   0    0    0    0     0\n",
      "\n",
      "[5 rows x 35 columns]\n",
      "   0   1   2   3   4   5   6   7   8   ...  36  37  38  39  40  41   42   43    44\n",
      "0   0   0   0   0   0   0   0   0   0  ...   0   0   0   0   0   0    0    0     0\n",
      "1   0   0   0   0   0   0   0   0   0  ...   0   0   0   0   3  16  256  618  3107\n",
      "2   0   0   0   0   0   0   0   0   0  ...   0   0   0   0   0   0    0    0     0\n",
      "\n",
      "[3 rows x 45 columns]\n",
      "   0   1   2   3   4   5   6   7   8   ...  31  32  33  34  35  36  37  38  39\n",
      "0   0   0   0   0   0   0   0   0   0  ...  -1   0   0   0   0   0   0   0   0\n",
      "1   0   0   0   0   0   0   0   0   1  ...   0   0   0   0   0   0   0   0   0\n",
      "2   0   0   0   0   0   0   0   0   0  ...   0   0   0   0   0   0   0   0   0\n",
      "\n",
      "[3 rows x 40 columns]\n",
      "   0   1   2   3   4   5   6   7   8   ...  33  34  35  36  37  38  39  40  41\n",
      "0   0   0   0   0   0   0   0   1   0  ...   0  -1   0   0   0   0   0   0   0\n",
      "1   0   0   0   0   0   0   0   1   5  ...   0   0   0   0   0   1   7   4   1\n",
      "2   0   0   0   0   0   0   1   0   5  ...   0   0   0   0   0   0   0   0   0\n",
      "3   0   0   0   0   0  -1   0   0   0  ...   0   0   0   0   0   0   0   0   0\n",
      "\n",
      "[4 rows x 42 columns]\n",
      "   0   1   2   3   4   5   6   7   8   ...  52  53  54  55  56   57   58    59    60\n",
      "0   0   0   0   0   0   0   0   0   0  ...   0   0   0   0   0    0    0     0     0\n",
      "1   0   0   0   0   0   0   0   0   0  ...   0   0   2   0   9  110  537  1280  2062\n",
      "2   0   0   0   0   0   0   0   0   0  ...   0   0   0   0   0    0    0     0     0\n",
      "3   0   0   0   0   0   0   0  -1   0  ...   0   0   0   0   0    0    0     0     0\n",
      "\n",
      "[4 rows x 61 columns]\n",
      "   0   1   2   3   4   5   6   7   8   ...  57  58  59  60  61  62   63   64   65\n",
      "0   0   0   0   0   0   0   0   0   0  ...   0   0   0   0   0   0    0    0    0\n",
      "1   0   0   0   0   0   0   0   0   0  ...   0   0   0   0  20  81  344  467  977\n",
      "2   0   0   0   0   0   0   0   0   0  ...   0   0   0   0   0   0    0    0    0\n",
      "\n",
      "[3 rows x 66 columns]\n",
      "   0   1   2   3   4   5   6   7   8   ...  39  40  41  42  43  44  45  46  47\n",
      "0   0   0   0   0   0   0   0   0   2  ...   0   0   0   0  -1   0   0   0   0\n",
      "1   0   0   0   0   1   1   0   3   1  ...   0   0   0   0   0   0   0   0   0\n",
      "2   0   0   0   0   0   0   0   0   0  ...   0   0   0   0   0   0   0   0   0\n",
      "3   0   0   0   0   0   0   0   0   0  ...   0   0   0   0   0   0   0   0   0\n",
      "\n",
      "[4 rows x 48 columns]\n",
      "   0   1   2   3   4   5   6   7   8   ...  56  57  58  59  60  61   62   63  64\n",
      "0   0   0   0   0   0   0   0   0   0  ...   0   0   0   0   0   0    0    0   0\n",
      "1   0   0   0   0   0   1   4   3   7  ...   0   0   0   0   3  44  254  687  12\n",
      "2   0   0   0   0   0   0   0   0   0  ...   0   0   0   0   0   0    0    0   0\n",
      "3   0   0   0   0   0   0   0   0   0  ...   0   0   0   0   0   0    0    0   0\n",
      "\n",
      "[4 rows x 65 columns]\n"
     ]
    }
   ],
   "source": [
    "folder = \"./output/static_ratio_2\"\n",
    "folder_for = f\"{folder}/graphs\"\n",
    "for file_name in sorted(os.listdir(folder_for), key=extract_numbers):\n",
    "    graph_f = f\"{folder}/graphs/{file_name}\"\n",
    "    cli_func_f = f\"{folder}/cli_func/{file_name}\"\n",
    "    df_f = f\"{folder}/full_dataframes/{file_name}\"\n",
    "    cliques_f = f\"{folder}/empty_dataframes/cliques_{file_name}\"\n",
    "    with open(df_f, \"rb\") as f:\n",
    "        df = pickle.load(f)\n",
    "    print(df)"
   ]
  }
 ],
 "metadata": {
  "kernelspec": {
   "display_name": "ocean",
   "language": "python",
   "name": "python3"
  },
  "language_info": {
   "codemirror_mode": {
    "name": "ipython",
    "version": 3
   },
   "file_extension": ".py",
   "mimetype": "text/x-python",
   "name": "python",
   "nbconvert_exporter": "python",
   "pygments_lexer": "ipython3",
   "version": "3.10.11"
  }
 },
 "nbformat": 4,
 "nbformat_minor": 2
}
