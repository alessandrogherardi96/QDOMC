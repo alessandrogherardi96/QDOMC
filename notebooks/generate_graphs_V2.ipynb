{
 "cells": [
  {
   "cell_type": "code",
   "execution_count": 314,
   "metadata": {},
   "outputs": [],
   "source": [
    "import random\n",
    "import networkx as nx\n",
    "import itertools\n",
    "import numpy as np\n",
    "import pandas as pd"
   ]
  },
  {
   "cell_type": "code",
   "execution_count": 315,
   "metadata": {},
   "outputs": [],
   "source": [
    "def mc_upper_bound(G):\n",
    "\t\"\"\"\n",
    "\tINPUT:\n",
    "\t - \"G\" Networkx Undirected Graph\n",
    "\tOUTPUT:\n",
    "\t - \"chromatic_number\" integer upper bound on the maximum clique number\n",
    "\t\"\"\"\n",
    "\tansw = nx.algorithms.coloring.greedy_color(G)\n",
    "\tchromatic_number = list(set(list(answ.values())))\n",
    "\treturn len(chromatic_number)"
   ]
  },
  {
   "cell_type": "code",
   "execution_count": 316,
   "metadata": {},
   "outputs": [
    {
     "name": "stdout",
     "output_type": "stream",
     "text": [
      "Valore più basso di grafo in rapporto al totale grafo originale: 0.7618270799347472\n",
      "Valore più alto di grafo in rapporto al totale grafo originale: 0.9902120717781403\n"
     ]
    }
   ],
   "source": [
    "min_grade = 467/613\n",
    "max_grade = 607/613\n",
    "print(f\"Valore più basso di grafo in rapporto al totale grafo originale: {min_grade}\")\n",
    "print(f\"Valore più alto di grafo in rapporto al totale grafo originale: {max_grade}\")"
   ]
  },
  {
   "cell_type": "markdown",
   "metadata": {},
   "source": [
    "# Funzione aggiornata\n",
    "### In questa seconda versione vengono scelti dei valori massimi e minimi di rapporto tra grado di un nodo e numero di nodi totali. Cerca di creare archi per un nodo in maniera che il suo grado sia un valore random nel range scelto o finchè può collegarlo senza aumentare l'upper bound"
   ]
  },
  {
   "cell_type": "code",
   "execution_count": 317,
   "metadata": {},
   "outputs": [],
   "source": [
    "# Funzione ricorsiva che sceglie un nodo random che non sia v o un nodo nella lista di nodi non utilizzabili\n",
    "#Ritorna \"None\" se sono già stati controllati tutti i nodi così da bloccare il ciclo\n",
    "def random_node(nodes, v, no_node_list):\n",
    "    node = random.choice(list(nodes))\n",
    "    if len(no_node_list) >= len(nodes)-1:\n",
    "        return None\n",
    "    elif node != v and node not in no_node_list:\n",
    "        return node\n",
    "    else:\n",
    "        return random_node(nodes, v, no_node_list)"
   ]
  },
  {
   "cell_type": "code",
   "execution_count": 318,
   "metadata": {},
   "outputs": [],
   "source": [
    "# Crea un grafo con \"num_nodes\" = numero nodi, con \"dim_cli\" nodi di cricca e \"num_cli\" cricche, poi collega i nodi delle cricche\n",
    "def create_graph_with_rand_clique(num_nodes, dim_cli, num_cli, random_clique_dimension):\n",
    "    g = nx.Graph()\n",
    "    cliques_nodes = []\n",
    "    for i in range(num_nodes):\n",
    "        g.add_node(i)\n",
    "    nodes = list(g.nodes())\n",
    "    for k in range(num_cli):\n",
    "        if random_clique_dimension:\n",
    "            clique = random.sample(nodes, random.randint(2,dim_cli))\n",
    "        else:\n",
    "            clique = random.sample(nodes, dim_cli)\n",
    "        cliques_nodes.append(sorted(clique))\n",
    "        nodes = [a for a in nodes if a not in clique]\n",
    "        combinations = itertools.combinations(clique,2)\n",
    "        g.add_edges_from(combinations)\n",
    "    return g, cliques_nodes, nodes"
   ]
  },
  {
   "cell_type": "code",
   "execution_count": 319,
   "metadata": {},
   "outputs": [],
   "source": [
    "# \"num_node\" = numero nodi cricca, \n",
    "# \"ex_node\" nodi non appartenenti alla cricca, \n",
    "# \"grade_max_min\" grado massimo e minimo tra 0 e 1\n",
    "# \"add_edges_between_cliques\" il nome spiega, meglio mettere a True\n",
    "# \"random_clique_dimension\" setta la dim della cricca random con massimo \"num_node\", per ora settare a False\n",
    "def graph_with_clique(num_node, ex_node, num_clique, grade_min, grade_max, add_edges_between_cliques, random_clique_dimension):\n",
    "    g, clique_nodes, list_ex_nodes = create_graph_with_rand_clique(num_node*num_clique+ex_node, num_node, num_clique, random_clique_dimension)\n",
    "    total_nodes = len(g.nodes())\n",
    "    ub = mc_upper_bound(g)\n",
    "    for i in list_ex_nodes:\n",
    "        node_grade = random.uniform(grade_min, grade_max) #numero di iterazioni\n",
    "        no_nodes_1 = []\n",
    "        while (g.degree()[i]/total_nodes) < node_grade: #finchè sto sotto il grado del nodo continuo\n",
    "            node = random_node(g.nodes, i, no_nodes_1) #scelgo nodo\n",
    "            if node is None: #Se ho usato tutti i nodi fermo \n",
    "                break\n",
    "            g.add_edge(i, node) #aggiunge arco\n",
    "            new_ub = mc_upper_bound(g) #ricalcola upper bound\n",
    "            if new_ub > ub: #rimuove arco se necessario\n",
    "                g.remove_edge(i, node)\n",
    "            no_nodes_1.append(node) #aggiungo nodo a quelli già usati\n",
    "    if add_edges_between_cliques:\n",
    "        for cli in clique_nodes:\n",
    "            ok_nodes = [a for a in g.nodes() if a not in cli]\n",
    "            for n in cli:\n",
    "                node_grade = random.uniform(grade_min, grade_max) #numero di iterazioni\n",
    "                no_nodes_2 = []\n",
    "                while (g.degree()[n]/total_nodes)< node_grade: #finchè sto sotto il grado del nodo continuo\n",
    "                    node = random_node(ok_nodes, n, no_nodes_2) #scelgo nodo\n",
    "                    if node is None: #Se ho usato tutti i nodi fermo\n",
    "                        break\n",
    "                    g.add_edge(n, node) #aggiunge arco\n",
    "                    new_ub = mc_upper_bound(g) #ricalcola upperbound\n",
    "                    if new_ub > ub: #rimuove arco se necessario\n",
    "                        g.remove_edge(n, node)\n",
    "                    no_nodes_2.append(node) #aggiungo nodo a quelli già usati\n",
    "    return g, clique_nodes"
   ]
  },
  {
   "cell_type": "markdown",
   "metadata": {},
   "source": [
    "# Test"
   ]
  },
  {
   "cell_type": "code",
   "execution_count": 320,
   "metadata": {},
   "outputs": [],
   "source": [
    "G, cli = graph_with_clique(20,100,1, min_grade, max_grade, True, False)"
   ]
  },
  {
   "cell_type": "code",
   "execution_count": 321,
   "metadata": {},
   "outputs": [
    {
     "name": "stdout",
     "output_type": "stream",
     "text": [
      "Rapporto grado minimo:0.725\n",
      "Rapporto grado massimo:0.975\n"
     ]
    }
   ],
   "source": [
    "degrees = dict(G.degree())\n",
    "print(f\"Rapporto grado minimo:{min(degrees.values())/len(G)}\")\n",
    "print(f\"Rapporto grado massimo:{max(degrees.values())/len(G)}\")"
   ]
  },
  {
   "cell_type": "markdown",
   "metadata": {},
   "source": [
    "# Funzione di assegnazione pesi\n",
    "### Input grafo e i due dataframe di probabilità\n",
    "### Output un dict che contiene vertice:[w00,w01]\n",
    "### Viene sviluppata così in maniera da poter estrarre più set di pesi per lo stesso grafo, il dict verrà passato poi alla funzione di assegnazione pesi"
   ]
  },
  {
   "cell_type": "code",
   "execution_count": 373,
   "metadata": {},
   "outputs": [],
   "source": [
    "def assegna_pesi_casuali(grafo, df0, df1):\n",
    "    # Calcola il numero totale di nodi nel grafo\n",
    "    num_nodi = grafo.number_of_nodes()\n",
    "    df_weights = {}\n",
    "    \n",
    "    # Itera su ogni nodo del grafo\n",
    "    for nodo in grafo.nodes():\n",
    "        # Calcola il rapporto grado/numero di nodi per il nodo attuale\n",
    "        grado = grafo.degree[nodo]\n",
    "        rapporto = round(grado / num_nodi, 3)\n",
    "        \n",
    "        # Trova la riga nel dataframe w00 corrispondente al rapporto più vicino\n",
    "        if rapporto in df0.index:\n",
    "            riga0 = df0.loc[rapporto]\n",
    "        else:\n",
    "            idx_rapporto_piu_vicino0 = pd.DataFrame(df0.index - rapporto).abs().idxmin()\n",
    "            rapporto_piu_vicino0 = df0.index[idx_rapporto_piu_vicino0]\n",
    "            riga0 = df0.loc[rapporto_piu_vicino0[0]]\n",
    "        # Trova la riga nel dataframe w01 corrispondente al rapporto più vicino\n",
    "        if rapporto in df1.index:\n",
    "            riga1 = df1.loc[rapporto]\n",
    "        else:\n",
    "            idx_rapporto_piu_vicino1 = pd.DataFrame(df0.index - rapporto).abs().idxmin()\n",
    "            rapporto_piu_vicino1 = df0.index[idx_rapporto_piu_vicino1]\n",
    "            riga1 = df1.loc[rapporto_piu_vicino1[0]]\n",
    "        \n",
    "        # Estrai la probabilità dalla riga e normalizzala se necessario\n",
    "        probabilita0 = riga0.values\n",
    "        pesi0 = riga0.index\n",
    "        probabilita1 = riga1.values\n",
    "        pesi1 = riga1.index\n",
    "        \n",
    "        # Scegli un peso casualmente secondo la distribuzione di probabilità\n",
    "        peso_scelto0 = np.random.choice(pesi0, p=probabilita0)\n",
    "        peso_scelto1 = np.random.choice(pesi1, p=probabilita1)\n",
    "        \n",
    "        #aggiungo al dataframe il nodo e peso\n",
    "        df_weights[nodo] = [peso_scelto0, peso_scelto1]\n",
    "    \n",
    "    return df_weights"
   ]
  },
  {
   "cell_type": "markdown",
   "metadata": {},
   "source": [
    "## Test"
   ]
  },
  {
   "cell_type": "code",
   "execution_count": 374,
   "metadata": {},
   "outputs": [],
   "source": [
    "matrice_w00 = pd.read_csv('./prob_w00.csv', index_col=0)\n",
    "matrice_w01 = pd.read_csv('./prob_w00.csv', index_col=0)"
   ]
  },
  {
   "cell_type": "code",
   "execution_count": 375,
   "metadata": {},
   "outputs": [],
   "source": [
    "G, cli = graph_with_clique(40, 70, 1, min_grade, max_grade, True, False)"
   ]
  },
  {
   "cell_type": "code",
   "execution_count": 376,
   "metadata": {},
   "outputs": [
    {
     "data": {
      "text/plain": [
       "{0: ['0.0', '0.0'],\n",
       " 1: ['0.2674', '0.2661'],\n",
       " 2: ['0.0032', '0.009'],\n",
       " 3: ['0.0209', '0.0208'],\n",
       " 4: ['0.0208', '0.0196'],\n",
       " 5: ['0.0', '0.0'],\n",
       " 6: ['1.0', '1.0'],\n",
       " 7: ['0.0251', '0.0233'],\n",
       " 8: ['0.0196', '0.0209'],\n",
       " 9: ['0.2697', '0.2674'],\n",
       " 10: ['0.0312', '0.0045'],\n",
       " 11: ['0.0056', '0.0056'],\n",
       " 12: ['0.0096', '0.0099'],\n",
       " 13: ['0.0153', '0.0153'],\n",
       " 14: ['0.0062', '0.004'],\n",
       " 15: ['0.2674', '0.2674'],\n",
       " 16: ['0.0308', '0.0308'],\n",
       " 17: ['0.0099', '0.0099'],\n",
       " 18: ['0.0', '0.0'],\n",
       " 19: ['0.0419', '0.0411'],\n",
       " 20: ['0.0153', '0.0153'],\n",
       " 21: ['0.0419', '0.0419'],\n",
       " 22: ['0.9968', '0.9976'],\n",
       " 23: ['0.2688', '0.2674'],\n",
       " 24: ['0.2693', '0.267'],\n",
       " 25: ['0.0899', '0.0238'],\n",
       " 26: ['0.0153', '0.0153'],\n",
       " 27: ['0.2693', '0.2666'],\n",
       " 28: ['1.0', '0.9976'],\n",
       " 29: ['0.9945', '0.9968'],\n",
       " 30: ['0.0027', '0.0312'],\n",
       " 31: ['0.0114', '0.0114'],\n",
       " 32: ['0.0056', '0.0056'],\n",
       " 33: ['0.9945', '0.9945'],\n",
       " 34: ['0.0014', '0.0014'],\n",
       " 35: ['1.0', '1.0'],\n",
       " 36: ['0.1847', '0.1847'],\n",
       " 37: ['0.0646', '0.0045'],\n",
       " 38: ['0.0114', '0.0114'],\n",
       " 39: ['0.0208', '0.0208'],\n",
       " 40: ['0.0245', '0.0245'],\n",
       " 41: ['0.0153', '0.0153'],\n",
       " 42: ['0.2373', '0.1864'],\n",
       " 43: ['0.0099', '0.0084'],\n",
       " 44: ['0.0789', '0.0789'],\n",
       " 45: ['0.0245', '0.0245'],\n",
       " 46: ['0.0674', '0.0674'],\n",
       " 47: ['0.0419', '0.0411'],\n",
       " 48: ['0.0245', '0.0245'],\n",
       " 49: ['0.0019', '0.0032'],\n",
       " 50: ['0.0006', '0.0014'],\n",
       " 51: ['0.267', '0.2697'],\n",
       " 52: ['0.0245', '0.0245'],\n",
       " 53: ['0.0', '0.0'],\n",
       " 54: ['0.0498', '0.0309'],\n",
       " 55: ['0.0672', '0.0674'],\n",
       " 56: ['0.0006', '0.0006'],\n",
       " 57: ['0.0419', '0.0419'],\n",
       " 58: ['0.0411', '0.0411'],\n",
       " 59: ['0.0498', '0.0308'],\n",
       " 60: ['0.0114', '0.0114'],\n",
       " 61: ['0.0789', '0.0789'],\n",
       " 62: ['0.0153', '0.0153'],\n",
       " 63: ['0.1159', '0.1159'],\n",
       " 64: ['0.0308', '0.0309'],\n",
       " 65: ['0.0245', '0.0245'],\n",
       " 66: ['0.0153', '0.0153'],\n",
       " 67: ['0.0308', '0.0308'],\n",
       " 68: ['0.0196', '0.0196'],\n",
       " 69: ['0.0238', '0.0545'],\n",
       " 70: ['0.0312', '0.0027'],\n",
       " 71: ['0.0233', '0.0251'],\n",
       " 72: ['0.0102', '0.003'],\n",
       " 73: ['0.0114', '0.0114'],\n",
       " 74: ['0.0056', '0.0056'],\n",
       " 75: ['0.0498', '0.0308'],\n",
       " 76: ['0.0085', '0.0099'],\n",
       " 77: ['0.0006', '0.0014'],\n",
       " 78: ['0.0309', '0.0308'],\n",
       " 79: ['0.0084', '0.0085'],\n",
       " 80: ['0.0498', '0.0498'],\n",
       " 81: ['0.2661', '0.2661'],\n",
       " 82: ['0.0114', '0.0114'],\n",
       " 83: ['0.0114', '0.0114'],\n",
       " 84: ['0.9945', '0.9945'],\n",
       " 85: ['0.1159', '0.1159'],\n",
       " 86: ['0.0114', '0.0114'],\n",
       " 87: ['0.0196', '0.0196'],\n",
       " 88: ['0.267', '0.2674'],\n",
       " 89: ['0.0545', '0.0899'],\n",
       " 90: ['0.0153', '0.0153'],\n",
       " 91: ['0.0233', '0.0251'],\n",
       " 92: ['0.0208', '0.0196'],\n",
       " 93: ['0.0312', '0.0646'],\n",
       " 94: ['0.0114', '0.0114'],\n",
       " 95: ['0.0056', '0.0056'],\n",
       " 96: ['0.0233', '0.0251'],\n",
       " 97: ['0.0419', '0.0411'],\n",
       " 98: ['0.0238', '0.0545'],\n",
       " 99: ['0.0032', '0.0032'],\n",
       " 100: ['0.0032', '0.0102'],\n",
       " 101: ['0.0114', '0.0114'],\n",
       " 102: ['0.0745', '0.1159'],\n",
       " 103: ['0.0031', '0.0031'],\n",
       " 104: ['0.1847', '0.1848'],\n",
       " 105: ['0.0114', '0.0114'],\n",
       " 106: ['0.1847', '0.1847'],\n",
       " 107: ['0.0114', '0.0114'],\n",
       " 108: ['0.0673', '0.0673'],\n",
       " 109: ['0.0308', '0.0309']}"
      ]
     },
     "execution_count": 376,
     "metadata": {},
     "output_type": "execute_result"
    }
   ],
   "source": [
    "assegna_pesi_casuali(G, matrice_w00, matrice_w01)"
   ]
  }
 ],
 "metadata": {
  "kernelspec": {
   "display_name": "Python 3 (ipykernel)",
   "language": "python",
   "name": "python3"
  },
  "language_info": {
   "codemirror_mode": {
    "name": "ipython",
    "version": 3
   },
   "file_extension": ".py",
   "mimetype": "text/x-python",
   "name": "python",
   "nbconvert_exporter": "python",
   "pygments_lexer": "ipython3",
   "version": "3.11.4"
  }
 },
 "nbformat": 4,
 "nbformat_minor": 4
}
