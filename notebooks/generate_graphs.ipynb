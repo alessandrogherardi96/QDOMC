{
 "cells": [
  {
   "cell_type": "code",
   "execution_count": 96,
   "metadata": {},
   "outputs": [],
   "source": [
    "import random\n",
    "import networkx as nx\n",
    "import itertools\n",
    "import numpy as np\n",
    "import pandas as pd"
   ]
  },
  {
   "cell_type": "code",
   "execution_count": 82,
   "metadata": {},
   "outputs": [],
   "source": [
    "def mc_upper_bound(G):\n",
    "\t\"\"\"\n",
    "\tINPUT:\n",
    "\t - \"G\" Networkx Undirected Graph\n",
    "\tOUTPUT:\n",
    "\t - \"chromatic_number\" integer upper bound on the maximum clique number\n",
    "\t\"\"\"\n",
    "\tansw = nx.algorithms.coloring.greedy_color(G)\n",
    "\tchromatic_number = list(set(list(answ.values())))\n",
    "\treturn len(chromatic_number)"
   ]
  },
  {
   "cell_type": "markdown",
   "metadata": {},
   "source": [
    "# Funzione\n",
    "## Nel markdown seguente viene data una spiegazione del funzionamento"
   ]
  },
  {
   "cell_type": "code",
   "execution_count": 83,
   "metadata": {},
   "outputs": [],
   "source": [
    "# Funzione ricorsiva che sceglie un nodo random che non sia v o un nodo nella lista di nodi non utilizzabili\n",
    "# Ritorna \"None\" se sono già stati controllati tutti i nodi così da bloccare il ciclo\n",
    "def random_node(nodes, v, no_node_list):\n",
    "    node = random.choice(list(nodes))\n",
    "    if len(no_node_list) >= len(nodes)-1:\n",
    "        return None\n",
    "    elif node != v and node not in no_node_list:\n",
    "        return node\n",
    "    else:\n",
    "        return random_node(nodes, v, no_node_list)"
   ]
  },
  {
   "cell_type": "code",
   "execution_count": 84,
   "metadata": {},
   "outputs": [],
   "source": [
    "# Crea un grafo con \"num_nodes\" = numero nodi, con \"dim_cli\" nodi di cricca e \"num_cli\" cricche, poi collega i nodi delle cricche\n",
    "def create_graph_with_rand_clique(num_nodes, dim_cli, num_cli, random_clique_dimension):\n",
    "    g = nx.Graph()\n",
    "    cliques_nodes = []\n",
    "    for i in range(num_nodes):\n",
    "        g.add_node(i)\n",
    "    nodes = list(g.nodes())\n",
    "    for k in range(num_cli):\n",
    "        if random_clique_dimension:\n",
    "            clique = random.sample(nodes, random.randint(2,dim_cli))\n",
    "        else:\n",
    "            clique = random.sample(nodes, dim_cli)\n",
    "        cliques_nodes.append(sorted(clique))\n",
    "        nodes = [a for a in nodes if a not in clique]\n",
    "        combinations = itertools.combinations(clique,2)\n",
    "        g.add_edges_from(combinations)\n",
    "    return g, cliques_nodes, nodes"
   ]
  },
  {
   "cell_type": "code",
   "execution_count": 85,
   "metadata": {},
   "outputs": [],
   "source": [
    "# \"num_node\" = numero nodi cricca, \n",
    "# \"ex_node\" nodi non appartenenti alla cricca, \n",
    "# \"density\" nuemro di terazioni per creare archi\n",
    "# \"add_edges_between_cliques\" il nome spiega, meglio mettere a True\n",
    "# \"random_clique_dimension\" setta la dim della cricca random con massimo \"num_node\", per ora settare a False\n",
    "def graph_with_clique(num_node, ex_node, num_clique, density, add_edges_between_cliques, random_clique_dimension):\n",
    "    g, clique_nodes, list_ex_nodes = create_graph_with_rand_clique(num_node*num_clique+ex_node, num_node, num_clique, random_clique_dimension)\n",
    "    total_nodes = len(g.nodes())\n",
    "    ub = mc_upper_bound(g)\n",
    "    ld = (density-5)/100 #lower density\n",
    "    ud = (density+5)/100 #upper density\n",
    "    for i in list_ex_nodes:\n",
    "        links = random.randint(int(total_nodes*ld), int(total_nodes*ud)) #numero di iterazioni\n",
    "        no_nodes_1 = []\n",
    "        for _ in range(links):\n",
    "            node = random_node(g.nodes, i, no_nodes_1) #scelgo nodo\n",
    "            if node is None: #Se ho usato tutti i nodi fermo\n",
    "                break\n",
    "            g.add_edge(i, node) #aggiunge arco\n",
    "            new_ub = mc_upper_bound(g) #ricalcola upper bound\n",
    "            if new_ub > ub: #rimuove arco se necessario\n",
    "                g.remove_edge(i, node)\n",
    "            no_nodes_1.append(node)\n",
    "    if add_edges_between_cliques:\n",
    "        for cli in clique_nodes:\n",
    "            ok_nodes = [a for a in g.nodes() if a not in cli]\n",
    "            for n in cli:\n",
    "                links = random.randint(int(total_nodes*ld), int(total_nodes*ud)) #numero di iterazioni\n",
    "                no_nodes_2 = []\n",
    "                for _ in range(links):\n",
    "                    node = random_node(ok_nodes, n, no_nodes_2) #scelgo nodo\n",
    "                    if node is None: #Se ho usato tutti i nodi fermo\n",
    "                        break\n",
    "                    g.add_edge(n, node) #aggiunge arco\n",
    "                    new_ub = mc_upper_bound(g) #ricalcola upperbound\n",
    "                    if new_ub > ub: #rimuove arco se necessario\n",
    "                        g.remove_edge(n, node)\n",
    "                    no_nodes_2.append(node)\n",
    "    return g, clique_nodes"
   ]
  },
  {
   "cell_type": "markdown",
   "metadata": {},
   "source": [
    "# Importante\n",
    "### La funzione decide quante volte iterare una funzione una funzione che crea archi.\n",
    "### Per creare un arco da un vertice V: viene scelto un nodo random V1, prova a creare l'arco, se aumenta l'upper bound rimuove l'arco e aggiunge il nodo V1 in una lista provvisoria di nodi non utilizzabili con il verticer V. \n",
    "### L'iterazione appena spiegata viene eseguita un numero di volte random pari a: numero totale dei nodi*density/100 \n",
    "### Il codice sottostante serve per provare con vari valori di densità quale è più adatto a ottenere un grafo con una certa densità dato la dimensione della cricca e il numero di nodi esterni"
   ]
  },
  {
   "cell_type": "code",
   "execution_count": 98,
   "metadata": {},
   "outputs": [
    {
     "name": "stdout",
     "output_type": "stream",
     "text": [
      "Grafo con 1 cricca/cricche, con 30 nodi della cricca e 100 nodi esterni\n",
      "Per il valore di density=70 la densità del grafo è 0.8657125819916518\n",
      "Per il valore di density=80 la densità del grafo è 0.9354800238521169\n",
      "Per il valore di density=90 la densità del grafo è 0.9588550983899821\n"
     ]
    }
   ],
   "source": [
    "dens = [i for i in range(70,100,10)] #scegliere il range di valori di density\n",
    "dim_cli = 30\n",
    "dim_ext = 100\n",
    "n_cli = 1\n",
    "print(f\"Grafo con {n_cli} cricca/cricche, con {dim_cli} nodi della cricca e {dim_ext} nodi esterni\")\n",
    "for density in dens:\n",
    "    G, cli = graph_with_clique(dim_cli, dim_ext, n_cli, density, True, False)\n",
    "    d = nx.density(G)\n",
    "    print(f\"Per il valore di density={density} la densità del grafo è {d}\")"
   ]
  },
  {
   "cell_type": "code",
   "execution_count": 99,
   "metadata": {},
   "outputs": [],
   "source": [
    "G, cli = graph_with_clique(dim_cli, dim_ext, n_cli, 75, True, False)"
   ]
  },
  {
   "cell_type": "code",
   "execution_count": 100,
   "metadata": {},
   "outputs": [
    {
     "name": "stdout",
     "output_type": "stream",
     "text": [
      "Rapporto grado minimo:0.7692307692307693\n",
      "Rapporto grado massimo:0.9692307692307692\n"
     ]
    }
   ],
   "source": [
    "degrees = dict(G.degree())\n",
    "print(f\"Rapporto grado minimo:{min(degrees.values())/len(G)}\")\n",
    "print(f\"Rapporto grado massimo:{max(degrees.values())/len(G)}\")"
   ]
  },
  {
   "cell_type": "markdown",
   "metadata": {},
   "source": [
    "# Funzione di assegnazione pesi\n",
    "### Input grafo e i due dataframe di probabilità\n",
    "### Output un dict che contiene vertice:[w00,w01]\n",
    "### Viene sviluppata così in maniera da poter estrarre più set di pesi per lo stesso grafo, il dict verrà passato poi alla funzione di assegnazione pesi"
   ]
  },
  {
   "cell_type": "code",
   "execution_count": 368,
   "metadata": {},
   "outputs": [],
   "source": [
    "def assegna_pesi_casuali(grafo, df0, df1):\n",
    "    # Calcola il numero totale di nodi nel grafo\n",
    "    num_nodi = grafo.number_of_nodes()\n",
    "    df_weights = {}\n",
    "    \n",
    "    # Itera su ogni nodo del grafo\n",
    "    for nodo in grafo.nodes():\n",
    "        # Calcola il rapporto grado/numero di nodi per il nodo attuale\n",
    "        grado = grafo.degree[nodo]\n",
    "        rapporto = round(grado / num_nodi, 3)\n",
    "        \n",
    "        # Trova la riga nel dataframe w00 corrispondente al rapporto più vicino\n",
    "        if rapporto in df0.index:\n",
    "            riga0 = df0.loc[rapporto]\n",
    "        else:\n",
    "            idx_rapporto_piu_vicino0 = pd.DataFrame(df0.index - rapporto).abs().idxmin()\n",
    "            rapporto_piu_vicino0 = df0.index[idx_rapporto_piu_vicino0]\n",
    "            riga0 = df0.loc[rapporto_piu_vicino0[0]]\n",
    "        # Trova la riga nel dataframe w01 corrispondente al rapporto più vicino\n",
    "        if rapporto in df1.index:\n",
    "            riga1 = df1.loc[rapporto]\n",
    "        else:\n",
    "            idx_rapporto_piu_vicino1 = pd.DataFrame(df0.index - rapporto).abs().idxmin()\n",
    "            rapporto_piu_vicino1 = df0.index[idx_rapporto_piu_vicino1]\n",
    "            riga1 = df1.loc[rapporto_piu_vicino1[0]]\n",
    "        \n",
    "        # Estrai la probabilità dalla riga e normalizzala se necessario\n",
    "        probabilita0 = riga0.values\n",
    "        pesi0 = riga0.index\n",
    "        probabilita1 = riga1.values\n",
    "        pesi1 = riga1.index\n",
    "        \n",
    "        # Scegli un peso casualmente secondo la distribuzione di probabilità\n",
    "        peso_scelto0 = np.random.choice(pesi0, p=probabilita0)\n",
    "        peso_scelto1 = np.random.choice(pesi1, p=probabilita1)\n",
    "        \n",
    "        #aggiungo al dataframe il nodo e peso\n",
    "        df_weights[nodo] = [peso_scelto0, peso_scelto1]\n",
    "    \n",
    "    return df_weights"
   ]
  },
  {
   "cell_type": "markdown",
   "metadata": {},
   "source": [
    "## Test"
   ]
  },
  {
   "cell_type": "code",
   "execution_count": 302,
   "metadata": {},
   "outputs": [],
   "source": [
    "matrice_w00 = pd.read_csv('./prob_w00.csv', index_col=0)\n",
    "matrice_w01 = pd.read_csv('./prob_w00.csv', index_col=0)"
   ]
  },
  {
   "cell_type": "code",
   "execution_count": 129,
   "metadata": {},
   "outputs": [],
   "source": [
    "G, cli = graph_with_clique(dim_cli, dim_ext, n_cli, 75, True, False)"
   ]
  },
  {
   "cell_type": "code",
   "execution_count": 369,
   "metadata": {},
   "outputs": [
    {
     "name": "stdout",
     "output_type": "stream",
     "text": [
      "0.982\n",
      "0.0       1.0\n",
      "0.0003    0.0\n",
      "0.0004    0.0\n",
      "0.0005    0.0\n",
      "0.0006    0.0\n",
      "         ... \n",
      "0.9945    0.0\n",
      "0.9958    0.0\n",
      "0.9968    0.0\n",
      "0.9976    0.0\n",
      "1.0       0.0\n",
      "Name: 0.977, Length: 340, dtype: float64\n"
     ]
    }
   ],
   "source": [
    "a = assegna_pesi_casuali(G, matrice_w00, matrice_w01)"
   ]
  }
 ],
 "metadata": {
  "kernelspec": {
   "display_name": "Python 3 (ipykernel)",
   "language": "python",
   "name": "python3"
  },
  "language_info": {
   "codemirror_mode": {
    "name": "ipython",
    "version": 3
   },
   "file_extension": ".py",
   "mimetype": "text/x-python",
   "name": "python",
   "nbconvert_exporter": "python",
   "pygments_lexer": "ipython3",
   "version": "3.11.4"
  }
 },
 "nbformat": 4,
 "nbformat_minor": 4
}
