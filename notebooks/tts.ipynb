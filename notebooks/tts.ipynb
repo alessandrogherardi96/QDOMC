{
 "cells": [
  {
   "cell_type": "code",
   "execution_count": 1,
   "metadata": {},
   "outputs": [],
   "source": [
    "import sys\n",
    "import os\n",
    "sys.path.append(os.path.abspath(\"../src\"))"
   ]
  },
  {
   "cell_type": "code",
   "execution_count": 3,
   "metadata": {},
   "outputs": [],
   "source": [
    "import networkx as nx\n",
    "import dwave_networkx as dnx\n",
    "from dwave.system import DWaveSampler\n",
    "from dwave.system import AutoEmbeddingComposite\n",
    "%matplotlib inline\n",
    "import matplotlib.pyplot as plt\n",
    "from random import choice\n",
    "import numpy as np\n",
    "import math\n",
    "import pandas as pd\n",
    "import pickle\n",
    "from tqdm.notebook import tqdm\n",
    "from utils.basic import func_max, QUBO_bias, sort_2_arr\n",
    "from utils.show_results import print_func\n",
    "from utils.calculation import calculate_results\n",
    "from utils.tts import compute_tts"
   ]
  },
  {
   "cell_type": "code",
   "execution_count": 4,
   "metadata": {},
   "outputs": [],
   "source": [
    "sampler =  AutoEmbeddingComposite(DWaveSampler())"
   ]
  },
  {
   "cell_type": "code",
   "execution_count": 10,
   "metadata": {},
   "outputs": [
    {
     "data": {
      "text/plain": [
       "0.3150172009739146"
      ]
     },
     "execution_count": 10,
     "metadata": {},
     "output_type": "execute_result"
    }
   ],
   "source": [
    "with open(\"./output/benchmark_graphs/graphs/3.pkl\", 'rb') as file:\n",
    "    G3 = pickle.load(file)\n",
    "original_cli3 = [[0, 1, 2, 3, 4, 5, 6, 7, 8, 9], [10, 11, 12, 13, 14, 15, 16, 17], [18, 19, 20, 21, 22]]\n",
    "optimal = [18, 19, 20, 21, 22]\n",
    "func_max(G3, optimal)"
   ]
  },
  {
   "cell_type": "markdown",
   "metadata": {},
   "source": [
    "# TTS"
   ]
  },
  {
   "cell_type": "code",
   "execution_count": null,
   "metadata": {},
   "outputs": [],
   "source": [
    "target_probability = 0.99\n",
    "annealing_times = range(5, 55, 10)"
   ]
  },
  {
   "cell_type": "code",
   "execution_count": null,
   "metadata": {},
   "outputs": [],
   "source": [
    "q = QUBO_bias(G3, False, True, [1,2,4,8])"
   ]
  },
  {
   "cell_type": "code",
   "execution_count": null,
   "metadata": {},
   "outputs": [],
   "source": [
    "tts = compute_tts(q, G3, optimal, annealing_times, target_probability, 4)"
   ]
  },
  {
   "cell_type": "code",
   "execution_count": null,
   "metadata": {},
   "outputs": [],
   "source": [
    "tts1 = compute_tts(q, G3, optimal, annealing_times, target_probability, 4)"
   ]
  },
  {
   "cell_type": "code",
   "execution_count": null,
   "metadata": {},
   "outputs": [],
   "source": [
    "finite_tts = {t_f: stats for t_f, stats in tts.items() if stats[0] != float(\"inf\")}\n",
    "if finite_tts:\n",
    "    optimal_t_f_num_read = min(finite_tts, key=lambda t_f: finite_tts[t_f][0] / t_f)\n",
    "    optimal_tts_mean_num_read, optimal_tts_std_num_read = finite_tts[optimal_t_f_num_read]\n",
    "    optimal_t_f = min(finite_tts, key=lambda x: finite_tts[x][0])\n",
    "    optimal_tts, optimal_std = finite_tts[optimal_t_f]\n",
    "opt_reads = int(optimal_tts/optimal_t_f)\n",
    "opt_reads_num_reads = int(optimal_tts_mean_num_read/optimal_t_f_num_read)\n",
    "print(f\" Min tf: {optimal_t_f} con {opt_reads} letture\")\n",
    "print(f\" Min tf che minimizza le letture: {optimal_t_f_num_read} con {opt_reads_num_reads} letture\")"
   ]
  },
  {
   "cell_type": "code",
   "execution_count": null,
   "metadata": {},
   "outputs": [],
   "source": [
    "max_cli = []\n",
    "for i in range(5):\n",
    "    res = calculate_results(G3, False, True, opt_reads-2000, optimal_t_f)\n",
    "    max_cli.extend(res)"
   ]
  },
  {
   "cell_type": "code",
   "execution_count": null,
   "metadata": {},
   "outputs": [],
   "source": [
    "print_func(max_cli, G3, original_cli3, 20)"
   ]
  }
 ],
 "metadata": {
  "kernelspec": {
   "display_name": "ocean",
   "language": "python",
   "name": "python3"
  },
  "language_info": {
   "codemirror_mode": {
    "name": "ipython",
    "version": 3
   },
   "file_extension": ".py",
   "mimetype": "text/x-python",
   "name": "python",
   "nbconvert_exporter": "python",
   "pygments_lexer": "ipython3",
   "version": "3.10.11"
  }
 },
 "nbformat": 4,
 "nbformat_minor": 2
}
